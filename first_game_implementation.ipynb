{
 "cells": [
  {
   "cell_type": "code",
   "execution_count": 1,
   "metadata": {},
   "outputs": [],
   "source": [
    "import numpy as np\n",
    "import matplotlib.pyplot as plt\n",
    "import random\n",
    "from tqdm import tqdm"
   ]
  },
  {
   "cell_type": "code",
   "execution_count": 2,
   "metadata": {},
   "outputs": [
    {
     "data": {
      "text/plain": [
       "<matplotlib.image.AxesImage at 0x226551644f0>"
      ]
     },
     "execution_count": 2,
     "metadata": {},
     "output_type": "execute_result"
    },
    {
     "data": {
      "image/png": "[encoded data removed]",
      "text/plain": [
       "<Figure size 432x432 with 1 Axes>"
      ]
     },
     "metadata": {
      "needs_background": "light"
     },
     "output_type": "display_data"
    }
   ],
   "source": [
    "#board view\n",
    "test = np.array([[0, 1, 0, 1, 0, 1, 0],\n",
    "       [1, 0, 1, 0, 1, 0, 1],\n",
    "       [0, 1, 0, 1, 0, 1, 0],\n",
    "       [1, 0, 1, 0, 1, 0, 1],\n",
    "       [0, 1, 0, 1, 0, 1, 0],\n",
    "       [1, 0, 1, 0, 1, 0, 1]])\n",
    "\n",
    "plt.figure(figsize=(6,6))\n",
    "plt.imshow(test)"
   ]
  },
  {
   "cell_type": "code",
   "execution_count": 4,
   "metadata": {},
   "outputs": [],
   "source": [
    "def userMove(player,col,grid):\n",
    "    '''input player, column,grid\n",
    "    return error if grid is full\n",
    "    output new grid'''\n",
    "    \n",
    "    if grid[0,col] != 0:\n",
    "        print('column full')\n",
    "        return grid\n",
    "    \n",
    "    for i in range(5,-1,-1):\n",
    "        if grid[i,col] == 0:\n",
    "            row = i\n",
    "            break\n",
    "    \n",
    "    if player == 0:\n",
    "        grid[row,col] = 1\n",
    "\n",
    "    else:\n",
    "        grid[row,col] = 2\n",
    "        \n",
    "    return grid"
   ]
  },
  {
   "cell_type": "code",
   "execution_count": 6,
   "metadata": {},
   "outputs": [],
   "source": [
    "def randomMove(player,grid):\n",
    "    '''perform random legal move'''\n",
    "    \n",
    "    #find non-full columns\n",
    "    choice_columns = []\n",
    "    for column in range(0,7):\n",
    "        if grid[0,column] == 0:\n",
    "            choice_columns.append(column)\n",
    "            \n",
    "    #randomly select non-full column\n",
    "    col = random.choice(choice_columns)\n",
    "    \n",
    "    #update grid value by player\n",
    "    for row in range(5,-1,-1):\n",
    "        if grid[row,col] == 0:\n",
    "            break\n",
    "    \n",
    "    if player == 0:\n",
    "        grid[row,col] = 1\n",
    "    else:\n",
    "        grid[row,col] = 2\n",
    "        \n",
    "    return grid"
   ]
  },
  {
   "cell_type": "code",
   "execution_count": 86,
   "metadata": {},
   "outputs": [],
   "source": [
    "def winnerEval(grid):\n",
    "    '''iter through horizontal, vertical, diagonal / \\ win patterns'''\n",
    "    winner = False\n",
    "    \n",
    "    #horizontal winner\n",
    "    for i in range(6):\n",
    "        frame_left = 0\n",
    "        for j in range(4):\n",
    "            frame = grid[i,frame_left:frame_left + 4]\n",
    "            if set(frame) == {1} or set(frame) == {2}:\n",
    "                winner = True\n",
    "                break\n",
    "            frame_left += 1\n",
    "                \n",
    "        if winner == True:\n",
    "            return set(frame), [(i,frame_left),(i,frame_left+1),(i,frame_left+2),(i,frame_left+3)]\n",
    "        \n",
    "    #vertical winner\n",
    "    for i in range(7):\n",
    "        frame_top = 0\n",
    "        for j in range(0,3):\n",
    "            frame = grid[frame_top:frame_top + 4,i]\n",
    "            if set(frame) == {1} or set(frame) == {2}:\n",
    "                winner = True\n",
    "                break\n",
    "            frame_top += 1\n",
    "                \n",
    "        if winner == True:\n",
    "            return set(frame), [(frame_top,i),(frame_top+1,i),(frame_top+2,i),(frame_top+3,i)]\n",
    "     \n",
    "    #// diagonal winner\n",
    "    for i in range(3,6):\n",
    "        for j in range(0,4):\n",
    "            frame = [grid[i,j], grid[i-1,j+1], grid[i-2,j+2], grid[i-3,j+3]]\n",
    "            if set(frame) == {1} or set(frame) == {2}:\n",
    "                winner = True\n",
    "                break\n",
    "                \n",
    "        if winner == True:\n",
    "            return set(frame), [(i,j),(i-1,j+1),(i-2,j+2),(i-3,j+3)]\n",
    "                \n",
    "    #\\\\ diagonal winner\n",
    "    for i in range(3,6):\n",
    "        for j in range(6,2,-1):\n",
    "            frame = [grid[i,j], grid[i-1,j-1], grid[i-2,j-2], grid[i-3,j-3]]\n",
    "            if set(frame) == {1} or set(frame) == {2}:\n",
    "                winner = True\n",
    "                break\n",
    "                \n",
    "        if winner == True:\n",
    "            return set(frame), [(i,j),(i-1,j-1),(i-2,j-2),(i-3,j-3)]"
   ]
  },
  {
   "cell_type": "code",
   "execution_count": 131,
   "metadata": {},
   "outputs": [
    {
     "name": "stdout",
     "output_type": "stream",
     "text": [
      "({1}, [(5, 5), (4, 4), (3, 3), (2, 2)])\n"
     ]
    },
    {
     "data": {
      "image/png": "[encoded data removed]",
      "text/plain": [
       "<Figure size 432x432 with 1 Axes>"
      ]
     },
     "metadata": {
      "needs_background": "light"
     },
     "output_type": "display_data"
    }
   ],
   "source": [
    "#play a single game\n",
    "\n",
    "#clear board\n",
    "grid =  np.full((6, 7), 0)\n",
    "\n",
    "#iter max 42 moves\n",
    "for player in [0,1]*21:\n",
    "    grid = random_move(player,grid)\n",
    "    #check for winner\n",
    "    check_win = winnerEval(grid)\n",
    "    if check_win is None:\n",
    "        pass\n",
    "    else:\n",
    "        break\n",
    "\n",
    "print(check_win)\n",
    "          \n",
    "#show completed game\n",
    "grid_viz = grid * -1\n",
    "grid_viz[grid_viz == 0] = 1\n",
    "grid_viz[grid_viz == -1] = 0\n",
    "grid_viz[grid_viz == -2] = 2\n",
    "\n",
    "plt.figure(figsize=(6,6))\n",
    "plt.imshow(grid_viz,'bwr')\n",
    "plt.show()\n",
    "\n",
    "#player1 is blue\n",
    "#player2 is red"
   ]
  },
  {
   "cell_type": "code",
   "execution_count": 134,
   "metadata": {},
   "outputs": [
    {
     "name": "stderr",
     "output_type": "stream",
     "text": [
      "100%|███████████████████████████████████████████████████████████████████████████| 10000/10000 [00:44<00:00, 224.88it/s]\n"
     ]
    }
   ],
   "source": [
    "win_p0 = 0\n",
    "win_p1 = 0\n",
    "draw = 0\n",
    "\n",
    "for i in tqdm(range(10000)):\n",
    "    grid =  np.full((6, 7), 0)\n",
    "    count = 0\n",
    "\n",
    "    for player in [0,1]*21:\n",
    "        grid = random_move(player,grid)\n",
    "    \n",
    "        check_win = winnerEval(grid)\n",
    "        if check_win is None:\n",
    "            count += 1\n",
    "            pass\n",
    "        elif check_win[0] == {1}:\n",
    "            win_p0 += 1\n",
    "            break\n",
    "        elif check_win[0] == {2}:\n",
    "            win_p1 += 1\n",
    "            break\n",
    "        \n",
    "        if count == 42:\n",
    "            draw += 1"
   ]
  },
  {
   "cell_type": "code",
   "execution_count": 135,
   "metadata": {},
   "outputs": [
    {
     "name": "stdout",
     "output_type": "stream",
     "text": [
      "5597\n",
      "4382\n",
      "21\n"
     ]
    }
   ],
   "source": [
    "print(win_p0)\n",
    "print(win_p1)\n",
    "print(draw)"
   ]
  },
  {
   "cell_type": "code",
   "execution_count": null,
   "metadata": {},
   "outputs": [],
   "source": []
  }
 ],
 "metadata": {
  "kernelspec": {
   "display_name": "Python 3",
   "language": "python",
   "name": "python3"
  },
  "language_info": {
   "codemirror_mode": {
    "name": "ipython",
    "version": 3
   },
   "file_extension": ".py",
   "mimetype": "text/x-python",
   "name": "python",
   "nbconvert_exporter": "python",
   "pygments_lexer": "ipython3",
   "version": "3.8.5"
  }
 },
 "nbformat": 4,
 "nbformat_minor": 4
}
